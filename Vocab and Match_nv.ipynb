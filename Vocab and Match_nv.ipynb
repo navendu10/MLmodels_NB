{
 "cells": [
  {
   "cell_type": "code",
   "execution_count": 1,
   "id": "9414cae5-ae1e-4ee7-8905-bfc87c3a52fc",
   "metadata": {},
   "outputs": [],
   "source": [
    "import spacy"
   ]
  },
  {
   "cell_type": "code",
   "execution_count": 2,
   "id": "c649f50d-1853-4a09-a408-00b48b966e43",
   "metadata": {},
   "outputs": [],
   "source": [
    "nlp = spacy.load('en_core_web_sm')"
   ]
  },
  {
   "cell_type": "code",
   "execution_count": 3,
   "id": "968cd03a-f819-46c2-ac79-17ecf74e9208",
   "metadata": {},
   "outputs": [],
   "source": [
    "from spacy.matcher import Matcher"
   ]
  },
  {
   "cell_type": "code",
   "execution_count": 4,
   "id": "d6f1cd99-b354-4235-9a29-ed667bd97e67",
   "metadata": {},
   "outputs": [],
   "source": [
    "matcher = Matcher(nlp.vocab)"
   ]
  },
  {
   "cell_type": "code",
   "execution_count": 7,
   "id": "bad41af8-ec54-4e1f-a692-2fb18af197e0",
   "metadata": {},
   "outputs": [],
   "source": [
    "#solarpower\n",
    "pattern1 = [{'LOWER': 'solarpower'}]\n",
    "\n",
    "#solar-power\n",
    "pattern2 = [{'LOWER': 'solar'}, {'IS_PUNCT':True}, {'LOWER': 'power'}]\n",
    "\n",
    "#solar power\n",
    "pattern3 = [{'LOWER': 'solar'}, {'LOWER': 'power'}]"
   ]
  },
  {
   "cell_type": "code",
   "execution_count": 9,
   "id": "cec4a3ea-8255-4b5b-9238-cf7f90ca2ad2",
   "metadata": {},
   "outputs": [],
   "source": [
    "matcher.add('SolarPower',[pattern1,pattern2,pattern3])"
   ]
  },
  {
   "cell_type": "code",
   "execution_count": 10,
   "id": "4740da66-46f2-4061-b239-3da6a3abd402",
   "metadata": {},
   "outputs": [],
   "source": [
    "doc = nlp(u'The Solar Power industry continues to grow as demand \\\n",
    "for solarpower increases. Solar-power cars are gaining popularity.')"
   ]
  },
  {
   "cell_type": "code",
   "execution_count": 12,
   "id": "04ea6228-d5a9-434f-8558-a1e81314a8d6",
   "metadata": {},
   "outputs": [],
   "source": [
    "found_matches = matcher(doc)"
   ]
  },
  {
   "cell_type": "code",
   "execution_count": 13,
   "id": "a83a62d3-df74-4761-be1c-e547a095b182",
   "metadata": {},
   "outputs": [
    {
     "name": "stdout",
     "output_type": "stream",
     "text": [
      "[(8656102463236116519, 1, 3), (8656102463236116519, 10, 11), (8656102463236116519, 13, 16)]\n"
     ]
    }
   ],
   "source": [
    "print(found_matches)"
   ]
  },
  {
   "cell_type": "code",
   "execution_count": 15,
   "id": "df030283-19b8-4d99-9104-e1b4b5128f08",
   "metadata": {},
   "outputs": [],
   "source": [
    "matcher.remove('SolarPower')"
   ]
  },
  {
   "cell_type": "code",
   "execution_count": 16,
   "id": "2c16a2e2-0ee4-46cf-880b-390eb509eb60",
   "metadata": {},
   "outputs": [],
   "source": [
    "from spacy.matcher import PhraseMatcher"
   ]
  },
  {
   "cell_type": "code",
   "execution_count": 17,
   "id": "a2988574-63cf-4596-8836-7f103c9f3185",
   "metadata": {},
   "outputs": [],
   "source": [
    "matcher = PhraseMatcher(nlp.vocab)"
   ]
  },
  {
   "cell_type": "code",
   "execution_count": 21,
   "id": "f45444f1-fd91-4789-889c-83c559debabe",
   "metadata": {},
   "outputs": [],
   "source": [
    "with open(r'D:\\Navendu\\Udem_NLP with Python Course\\UPDATED_NLP_COURSE\\TextFiles\\reaganomics.txt') as f:\n",
    "    doc3 = nlp(f.read())"
   ]
  },
  {
   "cell_type": "code",
   "execution_count": 22,
   "id": "08338ac1-f3be-4193-946c-5055e4d19734",
   "metadata": {},
   "outputs": [],
   "source": [
    "phrase_list = ['voodoo economics', 'supply-side economics', 'trickle-down economics', 'free-market economics']"
   ]
  },
  {
   "cell_type": "code",
   "execution_count": 23,
   "id": "4686373d-6819-42bd-be1f-f4fc595d54da",
   "metadata": {},
   "outputs": [],
   "source": [
    "phrase_patterns = [nlp(text) for text in phrase_list]"
   ]
  },
  {
   "cell_type": "code",
   "execution_count": 24,
   "id": "a8f39725-d8a0-4fc3-aa07-2398aebc36fd",
   "metadata": {},
   "outputs": [],
   "source": [
    "matcher.add('VoodooEconomics', None, *phrase_patterns)"
   ]
  },
  {
   "cell_type": "code",
   "execution_count": 25,
   "id": "0839b27e-1673-44f1-8070-9f7281ea0798",
   "metadata": {},
   "outputs": [],
   "source": [
    "found_matches = matcher(doc3)"
   ]
  },
  {
   "cell_type": "code",
   "execution_count": 27,
   "id": "0d06744d-9b00-4156-bd12-a9bc08ab619d",
   "metadata": {},
   "outputs": [
    {
     "name": "stdout",
     "output_type": "stream",
     "text": [
      "[(3473369816841043438, 41, 45), (3473369816841043438, 49, 53), (3473369816841043438, 54, 56), (3473369816841043438, 61, 65), (3473369816841043438, 673, 677), (3473369816841043438, 2987, 2991)]\n"
     ]
    }
   ],
   "source": [
    "print(found_matches)"
   ]
  },
  {
   "cell_type": "code",
   "execution_count": null,
   "id": "2b4fde75-419a-40c5-8922-e8f0dba512ad",
   "metadata": {},
   "outputs": [],
   "source": []
  }
 ],
 "metadata": {
  "kernelspec": {
   "display_name": "Python 3 (ipykernel)",
   "language": "python",
   "name": "python3"
  },
  "language_info": {
   "codemirror_mode": {
    "name": "ipython",
    "version": 3
   },
   "file_extension": ".py",
   "mimetype": "text/x-python",
   "name": "python",
   "nbconvert_exporter": "python",
   "pygments_lexer": "ipython3",
   "version": "3.12.4"
  }
 },
 "nbformat": 4,
 "nbformat_minor": 5
}
