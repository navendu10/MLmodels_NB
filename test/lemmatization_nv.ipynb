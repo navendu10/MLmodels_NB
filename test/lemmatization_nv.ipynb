{
 "cells": [
  {
   "cell_type": "code",
   "execution_count": 1,
   "id": "7ee8a3da-8a5e-4f91-93b5-884252d5579c",
   "metadata": {},
   "outputs": [],
   "source": [
    "import spacy"
   ]
  },
  {
   "cell_type": "code",
   "execution_count": 2,
   "id": "98196027-fd03-4ac9-bf1f-2ea36571b4ac",
   "metadata": {},
   "outputs": [],
   "source": [
    "nlp = spacy.load('en_core_web_sm')"
   ]
  },
  {
   "cell_type": "code",
   "execution_count": 3,
   "id": "91442d5d-c22f-4fe5-8a1a-4d791e6fb1d8",
   "metadata": {},
   "outputs": [],
   "source": [
    "doc1 = nlp(u\"I am a runner running in a race because I love to run since I ran today\")"
   ]
  },
  {
   "cell_type": "code",
   "execution_count": 4,
   "id": "f7233480-65f2-425c-a4b1-54c047be4317",
   "metadata": {},
   "outputs": [
    {
     "name": "stdout",
     "output_type": "stream",
     "text": [
      "I \t PRON \t 4690420944186131903 \t I\n",
      "am \t AUX \t 10382539506755952630 \t be\n",
      "a \t DET \t 11901859001352538922 \t a\n",
      "runner \t NOUN \t 12640964157389618806 \t runner\n",
      "running \t VERB \t 12767647472892411841 \t run\n",
      "in \t ADP \t 3002984154512732771 \t in\n",
      "a \t DET \t 11901859001352538922 \t a\n",
      "race \t NOUN \t 8048469955494714898 \t race\n",
      "because \t SCONJ \t 16950148841647037698 \t because\n",
      "I \t PRON \t 4690420944186131903 \t I\n",
      "love \t VERB \t 3702023516439754181 \t love\n",
      "to \t PART \t 3791531372978436496 \t to\n",
      "run \t VERB \t 12767647472892411841 \t run\n",
      "since \t SCONJ \t 10066841407251338481 \t since\n",
      "I \t PRON \t 4690420944186131903 \t I\n",
      "ran \t VERB \t 12767647472892411841 \t run\n",
      "today \t NOUN \t 11042482332948150395 \t today\n"
     ]
    }
   ],
   "source": [
    "for token in doc1:\n",
    "    print(token.text, '\\t', token.pos_, '\\t', token.lemma, '\\t', token.lemma_)"
   ]
  },
  {
   "cell_type": "code",
   "execution_count": 5,
   "id": "182ccff8-330b-4d42-9ef0-8efa28b6cebd",
   "metadata": {},
   "outputs": [],
   "source": [
    "def show_lemmas(text):\n",
    "    for token in text:\n",
    "        print(f'{token.text:{12}} {token.pos_:{6}} {token.lemma:<{22}} {token.lemma_}')"
   ]
  },
  {
   "cell_type": "code",
   "execution_count": 6,
   "id": "77905002-32ce-41dd-a39a-5a749ce9b7cb",
   "metadata": {},
   "outputs": [],
   "source": [
    "doc2 = nlp(u\"I saw eighteen mice today!\")"
   ]
  },
  {
   "cell_type": "code",
   "execution_count": 8,
   "id": "f3423f00-ec4f-484d-ab09-930aff2c0617",
   "metadata": {},
   "outputs": [
    {
     "name": "stdout",
     "output_type": "stream",
     "text": [
      "I            PRON   4690420944186131903    I\n",
      "saw          VERB   11925638236994514241   see\n",
      "eighteen     NUM    9609336664675087640    eighteen\n",
      "mice         NOUN   1384165645700560590    mouse\n",
      "today        NOUN   11042482332948150395   today\n",
      "!            PUNCT  17494803046312582752   !\n"
     ]
    }
   ],
   "source": [
    "show_lemmas(doc2)"
   ]
  },
  {
   "cell_type": "code",
   "execution_count": 10,
   "id": "26755cb2-8538-437f-bba7-fe2f8f2bbb48",
   "metadata": {},
   "outputs": [
    {
     "name": "stdout",
     "output_type": "stream",
     "text": [
      "{'yours', 'the', 'somewhere', 'them', 'your', '‘ll', 'get', 'anyone', 'side', 'noone', 'yet', 'various', 'this', '’ll', 'among', 'seemed', 'a', 'whereupon', 'already', \"'ve\", 'also', 'anything', 'per', 'former', 'beforehand', 'before', 'their', 'one', 'whether', 'its', 'with', 'wherein', 'who', 'and', 'nevertheless', 'there', 'whither', 'thru', 'three', 'not', 'then', 'as', 'about', 'anyway', 'fifteen', '‘ve', 'bottom', 'name', 'n‘t', 'should', 'each', 'first', 'last', 'by', 'over', \"'d\", 'because', 'same', \"'re\", 'eight', 'will', 'most', 'on', 'sometime', 'towards', 'amount', 'into', 'eleven', 'down', 'too', 'what', '‘d', 'next', 'thereby', 'least', 'somehow', 'upon', 'enough', 'where', 'no', 'or', 'hereby', 'call', 'hundred', 'take', 'being', 'under', 'fifty', 'everywhere', 'back', 'thence', 'an', 'sixty', 'further', 'put', 'must', 'elsewhere', 'became', 'made', 'up', 'out', 'of', 'did', 'against', 'everything', 'onto', 'full', 'without', 'you', 'empty', 'due', 'they', 'his', 'during', 'these', 'hereafter', 'unless', 'now', 'our', 'whereas', 'is', '’ve', 'several', 'been', '‘s', 'do', 'otherwise', 'again', 'keep', 'below', 'show', 'whence', 'mine', 'such', 'whereby', 'whatever', 'some', 'those', 'therefore', 'she', 'since', 'often', 'nowhere', 'indeed', '‘m', 'everyone', 'n’t', \"'s\", 'none', 'less', 'afterwards', 'seems', 'does', 'behind', 'forty', 'move', 'meanwhile', 'make', 'whenever', \"n't\", 'four', 'her', 'whereafter', 'himself', 'i', 'it', 'wherever', 'anyhow', 'if', 'few', 'much', 'so', 'might', 'while', 'serious', 'go', 'cannot', 'twenty', 'throughout', 'are', 'always', 'others', 'he', 'at', 'seeming', 'still', 'ever', 'please', '’s', 'however', 'after', 'five', 'almost', \"'m\", 'see', 'latter', 'than', 'quite', 'beyond', 'just', 'was', 'regarding', 're', 'whoever', 'around', 'any', 'were', 'twelve', 'along', 'become', '‘re', 'hereupon', 'but', '’m', 'moreover', 'nobody', 'how', 'in', 'more', 'becomes', 'part', 'third', 'even', 'only', 'ca', 'nor', 'six', 'mostly', 'can', 'yourself', 'whom', 'through', 'him', 'every', 'between', 'myself', 'off', 'nine', 'ours', 'rather', '’d', 'be', 'me', 'front', 'via', 'herein', 'hers', 'although', 'to', 'give', 'above', 'from', '’re', 'thereupon', 'perhaps', 'very', 'once', 'across', 'another', 'whose', 'something', 'together', 'yourselves', 'two', 'ten', 'we', 'all', 'either', 'top', 'whole', 'why', 'latterly', 'amongst', 'could', 'toward', 'itself', 'until', 'both', 'thereafter', 'using', 'well', 'nothing', 'many', 'thus', 'formerly', 'may', 'except', 'which', 'within', 'own', 'us', 'anywhere', 'would', 'herself', 'here', 'never', 'say', 'done', 'really', \"'ll\", 'when', 'alone', 'for', 'sometimes', 'becoming', 'seem', 'used', 'themselves', 'therein', 'has', 'beside', 'neither', 'doing', 'had', 'have', 'besides', 'am', 'my', 'other', 'that', 'ourselves', 'though', 'else', 'namely', 'someone', 'hence'}\n"
     ]
    }
   ],
   "source": [
    "print(nlp.Defaults.stop_words)"
   ]
  },
  {
   "cell_type": "code",
   "execution_count": 11,
   "id": "89409b87-d0b0-4e6a-8600-8b0f68f85e26",
   "metadata": {},
   "outputs": [
    {
     "data": {
      "text/plain": [
       "326"
      ]
     },
     "execution_count": 11,
     "metadata": {},
     "output_type": "execute_result"
    }
   ],
   "source": [
    "len(nlp.Defaults.stop_words)"
   ]
  },
  {
   "cell_type": "code",
   "execution_count": 15,
   "id": "1679c358-10d5-49a8-a80c-20b90ef89ce1",
   "metadata": {},
   "outputs": [
    {
     "data": {
      "text/plain": [
       "False"
      ]
     },
     "execution_count": 15,
     "metadata": {},
     "output_type": "execute_result"
    }
   ],
   "source": [
    "nlp.vocab['care'].is_stop"
   ]
  },
  {
   "cell_type": "code",
   "execution_count": 16,
   "id": "38a2bce0-d0e5-4162-8f8a-2161265ad683",
   "metadata": {},
   "outputs": [
    {
     "data": {
      "text/plain": [
       "False"
      ]
     },
     "execution_count": 16,
     "metadata": {},
     "output_type": "execute_result"
    }
   ],
   "source": [
    "nlp.vocab['btw'].is_stop"
   ]
  },
  {
   "cell_type": "code",
   "execution_count": 17,
   "id": "0298bb85-3762-4d18-ae0d-3af9685a71ea",
   "metadata": {},
   "outputs": [],
   "source": [
    "nlp.Defaults.stop_words.add('btw')"
   ]
  },
  {
   "cell_type": "code",
   "execution_count": 18,
   "id": "2a8ce4c1-20e3-4d63-87eb-2c86e8cfc018",
   "metadata": {},
   "outputs": [],
   "source": [
    "nlp.vocab['btw'].is_stop = True"
   ]
  },
  {
   "cell_type": "code",
   "execution_count": 19,
   "id": "eab4b8ee-f3c6-48d3-b0bf-d6c916f8c248",
   "metadata": {},
   "outputs": [
    {
     "data": {
      "text/plain": [
       "True"
      ]
     },
     "execution_count": 19,
     "metadata": {},
     "output_type": "execute_result"
    }
   ],
   "source": [
    "nlp.vocab['btw'].is_stop"
   ]
  },
  {
   "cell_type": "code",
   "execution_count": 20,
   "id": "214d90ef-7798-4257-aeed-8cfbf9004f07",
   "metadata": {},
   "outputs": [],
   "source": [
    "nlp.Defaults.stop_words.remove('beyond')"
   ]
  },
  {
   "cell_type": "code",
   "execution_count": 21,
   "id": "0ddd2684-f8fa-4ef0-84c9-490de69e4ec4",
   "metadata": {},
   "outputs": [],
   "source": [
    "nlp.vocab['beyond'].is_stop = False"
   ]
  },
  {
   "cell_type": "code",
   "execution_count": 22,
   "id": "0dc8b4cd-5216-4113-a5d6-69969f7fee57",
   "metadata": {},
   "outputs": [
    {
     "data": {
      "text/plain": [
       "False"
      ]
     },
     "execution_count": 22,
     "metadata": {},
     "output_type": "execute_result"
    }
   ],
   "source": [
    "nlp.vocab['beyond'].is_stop"
   ]
  },
  {
   "cell_type": "code",
   "execution_count": null,
   "id": "969540c9-f303-42eb-a160-820be1ccebd3",
   "metadata": {},
   "outputs": [],
   "source": []
  }
 ],
 "metadata": {
  "kernelspec": {
   "display_name": "Python 3 (ipykernel)",
   "language": "python",
   "name": "python3"
  },
  "language_info": {
   "codemirror_mode": {
    "name": "ipython",
    "version": 3
   },
   "file_extension": ".py",
   "mimetype": "text/x-python",
   "name": "python",
   "nbconvert_exporter": "python",
   "pygments_lexer": "ipython3",
   "version": "3.12.4"
  }
 },
 "nbformat": 4,
 "nbformat_minor": 5
}
