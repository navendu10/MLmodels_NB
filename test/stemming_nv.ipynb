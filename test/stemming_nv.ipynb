{
 "cells": [
  {
   "cell_type": "code",
   "execution_count": 1,
   "id": "315f17a1-afbd-47f8-9717-6183271a3232",
   "metadata": {},
   "outputs": [],
   "source": [
    "import nltk"
   ]
  },
  {
   "cell_type": "code",
   "execution_count": 2,
   "id": "9e6b8991-1630-482b-8d34-b988220aae42",
   "metadata": {},
   "outputs": [],
   "source": [
    "from nltk.stem.porter import PorterStemmer"
   ]
  },
  {
   "cell_type": "code",
   "execution_count": 3,
   "id": "8fe7a66e-48d5-49d3-a11b-91e894307169",
   "metadata": {},
   "outputs": [],
   "source": [
    "p_stemmer = PorterStemmer()"
   ]
  },
  {
   "cell_type": "code",
   "execution_count": 10,
   "id": "a93b0694-3fff-4b36-9deb-1c76a50d4d5e",
   "metadata": {},
   "outputs": [],
   "source": [
    "words = ['run','runner','running','ran','runs','easily','fairly', 'fairness']"
   ]
  },
  {
   "cell_type": "code",
   "execution_count": 11,
   "id": "a58cb119-9f9b-4635-9313-1209d71e06cf",
   "metadata": {},
   "outputs": [
    {
     "name": "stdout",
     "output_type": "stream",
     "text": [
      "run======>>run\n",
      "runner======>>runner\n",
      "running======>>run\n",
      "ran======>>ran\n",
      "runs======>>run\n",
      "easily======>>easili\n",
      "fairly======>>fairli\n",
      "fairness======>>fair\n"
     ]
    }
   ],
   "source": [
    "for word in words:\n",
    "    print(word+ '======>>'+ p_stemmer.stem(word))"
   ]
  },
  {
   "cell_type": "code",
   "execution_count": 12,
   "id": "18155527-e717-411a-bf62-e54f1bd4e689",
   "metadata": {},
   "outputs": [],
   "source": [
    "from nltk.stem.snowball import SnowballStemmer"
   ]
  },
  {
   "cell_type": "code",
   "execution_count": 13,
   "id": "f9885641-b229-4ca8-9c20-9ed9b6b96067",
   "metadata": {},
   "outputs": [],
   "source": [
    "s_stemmer = SnowballStemmer(language = 'english')"
   ]
  },
  {
   "cell_type": "code",
   "execution_count": 14,
   "id": "c4913227-cbee-4d3c-84c9-21edc0e8626e",
   "metadata": {},
   "outputs": [
    {
     "name": "stdout",
     "output_type": "stream",
     "text": [
      "run--->run\n",
      "runner--->runner\n",
      "running--->run\n",
      "ran--->ran\n",
      "runs--->run\n",
      "easily--->easili\n",
      "fairly--->fair\n",
      "fairness--->fair\n"
     ]
    }
   ],
   "source": [
    "for word in words:\n",
    "    print(word+ '--->' + s_stemmer.stem(word))"
   ]
  },
  {
   "cell_type": "code",
   "execution_count": 15,
   "id": "07cd0849-9d9c-436e-af4b-79f2c596d5a7",
   "metadata": {},
   "outputs": [],
   "source": [
    "words = ['generous','generation','generously','generate']"
   ]
  },
  {
   "cell_type": "code",
   "execution_count": 16,
   "id": "985ebe85-9ea4-4c2c-afa3-1b3d7fefa924",
   "metadata": {},
   "outputs": [
    {
     "name": "stdout",
     "output_type": "stream",
     "text": [
      "generous--->generous\n",
      "generation--->generat\n",
      "generously--->generous\n",
      "generate--->generat\n"
     ]
    }
   ],
   "source": [
    "for word in words:\n",
    "    print(word+ '--->' + s_stemmer.stem(word))"
   ]
  },
  {
   "cell_type": "code",
   "execution_count": null,
   "id": "0785efbc-6218-4f20-a08e-a9683bd59f4b",
   "metadata": {},
   "outputs": [],
   "source": []
  }
 ],
 "metadata": {
  "kernelspec": {
   "display_name": "Python 3 (ipykernel)",
   "language": "python",
   "name": "python3"
  },
  "language_info": {
   "codemirror_mode": {
    "name": "ipython",
    "version": 3
   },
   "file_extension": ".py",
   "mimetype": "text/x-python",
   "name": "python",
   "nbconvert_exporter": "python",
   "pygments_lexer": "ipython3",
   "version": "3.12.4"
  }
 },
 "nbformat": 4,
 "nbformat_minor": 5
}
